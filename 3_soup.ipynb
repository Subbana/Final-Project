{
 "cells": [
  {
   "cell_type": "code",
   "execution_count": 1,
   "metadata": {},
   "outputs": [],
   "source": [
    "import pandas as pd\n",
    "from splinter import Browser\n",
    "from bs4 import BeautifulSoup"
   ]
  },
  {
   "cell_type": "code",
   "execution_count": 2,
   "metadata": {},
   "outputs": [
    {
     "data": {
      "text/html": [
       "<div>\n",
       "<style scoped>\n",
       "    .dataframe tbody tr th:only-of-type {\n",
       "        vertical-align: middle;\n",
       "    }\n",
       "\n",
       "    .dataframe tbody tr th {\n",
       "        vertical-align: top;\n",
       "    }\n",
       "\n",
       "    .dataframe thead th {\n",
       "        text-align: right;\n",
       "    }\n",
       "</style>\n",
       "<table border=\"1\" class=\"dataframe\">\n",
       "  <thead>\n",
       "    <tr style=\"text-align: right;\">\n",
       "      <th></th>\n",
       "      <th>id</th>\n",
       "      <th>name</th>\n",
       "      <th>categories</th>\n",
       "      <th>latitude</th>\n",
       "      <th>longitude</th>\n",
       "      <th>address</th>\n",
       "      <th>zip_code</th>\n",
       "      <th>price</th>\n",
       "      <th>rating</th>\n",
       "      <th>review_count</th>\n",
       "      <th>url</th>\n",
       "      <th>walk_score</th>\n",
       "    </tr>\n",
       "  </thead>\n",
       "  <tbody>\n",
       "    <tr>\n",
       "      <th>0</th>\n",
       "      <td>YmrTE3k7eIUCrUPi18MeMQ</td>\n",
       "      <td>Schaller's Stube Sausage Bar</td>\n",
       "      <td>german</td>\n",
       "      <td>30.265480</td>\n",
       "      <td>-97.744050</td>\n",
       "      <td>102 1/2 W 3rd St</td>\n",
       "      <td>78701.0</td>\n",
       "      <td>NaN</td>\n",
       "      <td>4.5</td>\n",
       "      <td>20</td>\n",
       "      <td>https://www.yelp.com/biz/schallers-stube-sausa...</td>\n",
       "      <td>99.0</td>\n",
       "    </tr>\n",
       "    <tr>\n",
       "      <th>1</th>\n",
       "      <td>yV01eojIM0Om-LxJVnusMQ</td>\n",
       "      <td>Jewhungry?</td>\n",
       "      <td>delis kosher</td>\n",
       "      <td>30.225650</td>\n",
       "      <td>-97.762740</td>\n",
       "      <td>3808 South Congress Ave</td>\n",
       "      <td>78704.0</td>\n",
       "      <td>$</td>\n",
       "      <td>5.0</td>\n",
       "      <td>6</td>\n",
       "      <td>https://www.yelp.com/biz/jewhungry-austin?adju...</td>\n",
       "      <td>72.0</td>\n",
       "    </tr>\n",
       "    <tr>\n",
       "      <th>2</th>\n",
       "      <td>vLKgesyq-yEfpzeAFgPorQ</td>\n",
       "      <td>The Picnic</td>\n",
       "      <td>unknown</td>\n",
       "      <td>30.263653</td>\n",
       "      <td>-97.763167</td>\n",
       "      <td>1720 Barton Springs Rd</td>\n",
       "      <td>78704.0</td>\n",
       "      <td>$$</td>\n",
       "      <td>4.5</td>\n",
       "      <td>80</td>\n",
       "      <td>https://www.yelp.com/biz/the-picnic-austin?adj...</td>\n",
       "      <td>69.0</td>\n",
       "    </tr>\n",
       "    <tr>\n",
       "      <th>3</th>\n",
       "      <td>6A8smdPYPc1u5pP1ATZQug</td>\n",
       "      <td>Dolce Bacio Gelato</td>\n",
       "      <td>desserts gelato</td>\n",
       "      <td>30.263150</td>\n",
       "      <td>-97.725910</td>\n",
       "      <td>1606 E 6th St</td>\n",
       "      <td>78702.0</td>\n",
       "      <td>NaN</td>\n",
       "      <td>5.0</td>\n",
       "      <td>9</td>\n",
       "      <td>https://www.yelp.com/biz/dolce-bacio-gelato-au...</td>\n",
       "      <td>88.0</td>\n",
       "    </tr>\n",
       "    <tr>\n",
       "      <th>4</th>\n",
       "      <td>OorxaXtp3JtnkyBQ27TXjg</td>\n",
       "      <td>Pastelaria São Paulo</td>\n",
       "      <td>brazilian</td>\n",
       "      <td>30.244410</td>\n",
       "      <td>-97.758080</td>\n",
       "      <td>603 W Live Oak St</td>\n",
       "      <td>78704.0</td>\n",
       "      <td>NaN</td>\n",
       "      <td>5.0</td>\n",
       "      <td>19</td>\n",
       "      <td>https://www.yelp.com/biz/pastelaria-s%C3%A3o-p...</td>\n",
       "      <td>86.0</td>\n",
       "    </tr>\n",
       "  </tbody>\n",
       "</table>\n",
       "</div>"
      ],
      "text/plain": [
       "                       id                          name        categories  \\\n",
       "0  YmrTE3k7eIUCrUPi18MeMQ  Schaller's Stube Sausage Bar           german    \n",
       "1  yV01eojIM0Om-LxJVnusMQ                    Jewhungry?     delis kosher    \n",
       "2  vLKgesyq-yEfpzeAFgPorQ                    The Picnic           unknown   \n",
       "3  6A8smdPYPc1u5pP1ATZQug            Dolce Bacio Gelato  desserts gelato    \n",
       "4  OorxaXtp3JtnkyBQ27TXjg          Pastelaria São Paulo        brazilian    \n",
       "\n",
       "    latitude  longitude                  address  zip_code price  rating  \\\n",
       "0  30.265480 -97.744050         102 1/2 W 3rd St   78701.0   NaN     4.5   \n",
       "1  30.225650 -97.762740  3808 South Congress Ave   78704.0     $     5.0   \n",
       "2  30.263653 -97.763167   1720 Barton Springs Rd   78704.0    $$     4.5   \n",
       "3  30.263150 -97.725910            1606 E 6th St   78702.0   NaN     5.0   \n",
       "4  30.244410 -97.758080        603 W Live Oak St   78704.0   NaN     5.0   \n",
       "\n",
       "   review_count                                                url  walk_score  \n",
       "0            20  https://www.yelp.com/biz/schallers-stube-sausa...        99.0  \n",
       "1             6  https://www.yelp.com/biz/jewhungry-austin?adju...        72.0  \n",
       "2            80  https://www.yelp.com/biz/the-picnic-austin?adj...        69.0  \n",
       "3             9  https://www.yelp.com/biz/dolce-bacio-gelato-au...        88.0  \n",
       "4            19  https://www.yelp.com/biz/pastelaria-s%C3%A3o-p...        86.0  "
      ]
     },
     "execution_count": 2,
     "metadata": {},
     "output_type": "execute_result"
    }
   ],
   "source": [
    "df = pd.read_csv(\"data_with_scores.csv\")\n",
    "df.head()"
   ]
  },
  {
   "cell_type": "code",
   "execution_count": 3,
   "metadata": {},
   "outputs": [],
   "source": [
    "browser = Browser(\"chrome\", executable_path=\"chromedriver.exe\", headless=False)"
   ]
  },
  {
   "cell_type": "code",
   "execution_count": 4,
   "metadata": {},
   "outputs": [
    {
     "data": {
      "text/plain": [
       "'https://www.yelp.com/biz/schallers-stube-sausage-bar-austin-2?sort_by=date_asc'"
      ]
     },
     "execution_count": 4,
     "metadata": {},
     "output_type": "execute_result"
    }
   ],
   "source": [
    "url = df.url[0].split(\"?\")[0] + \"?sort_by=date_asc\"\n",
    "url"
   ]
  },
  {
   "cell_type": "code",
   "execution_count": 5,
   "metadata": {},
   "outputs": [
    {
     "data": {
      "text/plain": [
       "'7/30/2018'"
      ]
     },
     "execution_count": 5,
     "metadata": {},
     "output_type": "execute_result"
    }
   ],
   "source": [
    "browser.visit(url)\n",
    "html = browser.html\n",
    "soup = BeautifulSoup(html, \"lxml\")\n",
    "date = soup.find(\"ul\", class_=\"ylist ylist-bordered reviews\").find(\"span\", class_=\"rating-qualifier\").text.strip()\n",
    "date"
   ]
  },
  {
   "cell_type": "code",
   "execution_count": 6,
   "metadata": {},
   "outputs": [],
   "source": [
    "def get_date(url):\n",
    "    browser.visit(url)\n",
    "    html = browser.html\n",
    "    soup = BeautifulSoup(html, \"lxml\")\n",
    "    date = soup.find(\"ul\", class_=\"ylist ylist-bordered reviews\").find(\"span\", class_=\"rating-qualifier\").text.strip()\n",
    "    return date"
   ]
  },
  {
   "cell_type": "code",
   "execution_count": 7,
   "metadata": {},
   "outputs": [],
   "source": [
    "dates = []\n",
    "for _ in range(df.shape[0]):\n",
    "    try:\n",
    "        dates.append(get_date(df.url[_].split(\"?\")[0]+\"?sort_by=date_asc\"))\n",
    "    except:\n",
    "        dates.append(\"N/A\")"
   ]
  },
  {
   "cell_type": "code",
   "execution_count": 8,
   "metadata": {},
   "outputs": [
    {
     "data": {
      "text/plain": [
       "877"
      ]
     },
     "execution_count": 8,
     "metadata": {},
     "output_type": "execute_result"
    }
   ],
   "source": [
    "len(dates)"
   ]
  },
  {
   "cell_type": "code",
   "execution_count": 9,
   "metadata": {},
   "outputs": [],
   "source": [
    "df[\"first_review_date\"] = pd.Series(dates).values"
   ]
  },
  {
   "cell_type": "code",
   "execution_count": 10,
   "metadata": {},
   "outputs": [
    {
     "data": {
      "text/html": [
       "<div>\n",
       "<style scoped>\n",
       "    .dataframe tbody tr th:only-of-type {\n",
       "        vertical-align: middle;\n",
       "    }\n",
       "\n",
       "    .dataframe tbody tr th {\n",
       "        vertical-align: top;\n",
       "    }\n",
       "\n",
       "    .dataframe thead th {\n",
       "        text-align: right;\n",
       "    }\n",
       "</style>\n",
       "<table border=\"1\" class=\"dataframe\">\n",
       "  <thead>\n",
       "    <tr style=\"text-align: right;\">\n",
       "      <th></th>\n",
       "      <th>id</th>\n",
       "      <th>name</th>\n",
       "      <th>categories</th>\n",
       "      <th>latitude</th>\n",
       "      <th>longitude</th>\n",
       "      <th>address</th>\n",
       "      <th>zip_code</th>\n",
       "      <th>price</th>\n",
       "      <th>rating</th>\n",
       "      <th>review_count</th>\n",
       "      <th>url</th>\n",
       "      <th>walk_score</th>\n",
       "      <th>first_review_date</th>\n",
       "    </tr>\n",
       "  </thead>\n",
       "  <tbody>\n",
       "    <tr>\n",
       "      <th>0</th>\n",
       "      <td>YmrTE3k7eIUCrUPi18MeMQ</td>\n",
       "      <td>Schaller's Stube Sausage Bar</td>\n",
       "      <td>german</td>\n",
       "      <td>30.265480</td>\n",
       "      <td>-97.744050</td>\n",
       "      <td>102 1/2 W 3rd St</td>\n",
       "      <td>78701.0</td>\n",
       "      <td>NaN</td>\n",
       "      <td>4.5</td>\n",
       "      <td>20</td>\n",
       "      <td>https://www.yelp.com/biz/schallers-stube-sausa...</td>\n",
       "      <td>99.0</td>\n",
       "      <td>7/30/2018</td>\n",
       "    </tr>\n",
       "    <tr>\n",
       "      <th>1</th>\n",
       "      <td>yV01eojIM0Om-LxJVnusMQ</td>\n",
       "      <td>Jewhungry?</td>\n",
       "      <td>delis kosher</td>\n",
       "      <td>30.225650</td>\n",
       "      <td>-97.762740</td>\n",
       "      <td>3808 South Congress Ave</td>\n",
       "      <td>78704.0</td>\n",
       "      <td>$</td>\n",
       "      <td>5.0</td>\n",
       "      <td>6</td>\n",
       "      <td>https://www.yelp.com/biz/jewhungry-austin?adju...</td>\n",
       "      <td>72.0</td>\n",
       "      <td>4/16/2018</td>\n",
       "    </tr>\n",
       "    <tr>\n",
       "      <th>2</th>\n",
       "      <td>vLKgesyq-yEfpzeAFgPorQ</td>\n",
       "      <td>The Picnic</td>\n",
       "      <td>unknown</td>\n",
       "      <td>30.263653</td>\n",
       "      <td>-97.763167</td>\n",
       "      <td>1720 Barton Springs Rd</td>\n",
       "      <td>78704.0</td>\n",
       "      <td>$$</td>\n",
       "      <td>4.5</td>\n",
       "      <td>80</td>\n",
       "      <td>https://www.yelp.com/biz/the-picnic-austin?adj...</td>\n",
       "      <td>69.0</td>\n",
       "      <td>4/8/2014</td>\n",
       "    </tr>\n",
       "    <tr>\n",
       "      <th>3</th>\n",
       "      <td>6A8smdPYPc1u5pP1ATZQug</td>\n",
       "      <td>Dolce Bacio Gelato</td>\n",
       "      <td>desserts gelato</td>\n",
       "      <td>30.263150</td>\n",
       "      <td>-97.725910</td>\n",
       "      <td>1606 E 6th St</td>\n",
       "      <td>78702.0</td>\n",
       "      <td>NaN</td>\n",
       "      <td>5.0</td>\n",
       "      <td>9</td>\n",
       "      <td>https://www.yelp.com/biz/dolce-bacio-gelato-au...</td>\n",
       "      <td>88.0</td>\n",
       "      <td>9/11/2018</td>\n",
       "    </tr>\n",
       "    <tr>\n",
       "      <th>4</th>\n",
       "      <td>OorxaXtp3JtnkyBQ27TXjg</td>\n",
       "      <td>Pastelaria São Paulo</td>\n",
       "      <td>brazilian</td>\n",
       "      <td>30.244410</td>\n",
       "      <td>-97.758080</td>\n",
       "      <td>603 W Live Oak St</td>\n",
       "      <td>78704.0</td>\n",
       "      <td>NaN</td>\n",
       "      <td>5.0</td>\n",
       "      <td>19</td>\n",
       "      <td>https://www.yelp.com/biz/pastelaria-s%C3%A3o-p...</td>\n",
       "      <td>86.0</td>\n",
       "      <td>6/22/2018</td>\n",
       "    </tr>\n",
       "  </tbody>\n",
       "</table>\n",
       "</div>"
      ],
      "text/plain": [
       "                       id                          name        categories  \\\n",
       "0  YmrTE3k7eIUCrUPi18MeMQ  Schaller's Stube Sausage Bar           german    \n",
       "1  yV01eojIM0Om-LxJVnusMQ                    Jewhungry?     delis kosher    \n",
       "2  vLKgesyq-yEfpzeAFgPorQ                    The Picnic           unknown   \n",
       "3  6A8smdPYPc1u5pP1ATZQug            Dolce Bacio Gelato  desserts gelato    \n",
       "4  OorxaXtp3JtnkyBQ27TXjg          Pastelaria São Paulo        brazilian    \n",
       "\n",
       "    latitude  longitude                  address  zip_code price  rating  \\\n",
       "0  30.265480 -97.744050         102 1/2 W 3rd St   78701.0   NaN     4.5   \n",
       "1  30.225650 -97.762740  3808 South Congress Ave   78704.0     $     5.0   \n",
       "2  30.263653 -97.763167   1720 Barton Springs Rd   78704.0    $$     4.5   \n",
       "3  30.263150 -97.725910            1606 E 6th St   78702.0   NaN     5.0   \n",
       "4  30.244410 -97.758080        603 W Live Oak St   78704.0   NaN     5.0   \n",
       "\n",
       "   review_count                                                url  \\\n",
       "0            20  https://www.yelp.com/biz/schallers-stube-sausa...   \n",
       "1             6  https://www.yelp.com/biz/jewhungry-austin?adju...   \n",
       "2            80  https://www.yelp.com/biz/the-picnic-austin?adj...   \n",
       "3             9  https://www.yelp.com/biz/dolce-bacio-gelato-au...   \n",
       "4            19  https://www.yelp.com/biz/pastelaria-s%C3%A3o-p...   \n",
       "\n",
       "   walk_score first_review_date  \n",
       "0        99.0         7/30/2018  \n",
       "1        72.0         4/16/2018  \n",
       "2        69.0          4/8/2014  \n",
       "3        88.0         9/11/2018  \n",
       "4        86.0         6/22/2018  "
      ]
     },
     "execution_count": 10,
     "metadata": {},
     "output_type": "execute_result"
    }
   ],
   "source": [
    "df.head()"
   ]
  },
  {
   "cell_type": "code",
   "execution_count": 11,
   "metadata": {},
   "outputs": [],
   "source": [
    "df.to_csv(\"data_with_scores_and_dates.csv\", index=False)"
   ]
  },
  {
   "cell_type": "code",
   "execution_count": null,
   "metadata": {},
   "outputs": [],
   "source": []
  }
 ],
 "metadata": {
  "kernelspec": {
   "display_name": "Python [conda env:PythonData]",
   "language": "python",
   "name": "conda-env-PythonData-py"
  },
  "language_info": {
   "codemirror_mode": {
    "name": "ipython",
    "version": 3
   },
   "file_extension": ".py",
   "mimetype": "text/x-python",
   "name": "python",
   "nbconvert_exporter": "python",
   "pygments_lexer": "ipython3",
   "version": "3.6.4"
  }
 },
 "nbformat": 4,
 "nbformat_minor": 2
}
